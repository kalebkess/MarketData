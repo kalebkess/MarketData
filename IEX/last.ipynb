{
 "cells": [
  {
   "cell_type": "code",
   "execution_count": 21,
   "id": "8f151e7b-83c3-4205-bfd5-d74be76b138c",
   "metadata": {},
   "outputs": [],
   "source": [
    "import json\n",
    "import pandas as pd\n",
    "import requests"
   ]
  },
  {
   "cell_type": "code",
   "execution_count": 22,
   "id": "2099f8cd-aab1-4a2a-83e6-0f6a200f023e",
   "metadata": {},
   "outputs": [],
   "source": [
    "with open('../secrets.json', 'r') as file:\n",
    "    secrets = json.load(file)"
   ]
  },
  {
   "cell_type": "code",
   "execution_count": 24,
   "id": "2a635c9a-00c3-4479-abf2-c1967731dea4",
   "metadata": {},
   "outputs": [],
   "source": [
    "def get_last_price():\n",
    "    params = {'token':secrets['IEX_KEY']}\n",
    "    r = requests.get(f\"{secrets['IEX_BASE_URL']}stable/tops/last\", params=params)\n",
    "    if r.status_code == 200:\n",
    "        data = pd.DataFrame(r.json()).set_index('symbol')\n",
    "        data.to_csv('../examples/IEX_last_price.csv')\n",
    "    return data"
   ]
  },
  {
   "cell_type": "code",
   "execution_count": 26,
   "id": "28bfc7fc-871c-4400-bf36-e828074f4dea",
   "metadata": {},
   "outputs": [],
   "source": [
    "data = get_last_price()"
   ]
  },
  {
   "cell_type": "code",
   "execution_count": 27,
   "id": "baf04416-128f-436c-9860-44b90047fc81",
   "metadata": {},
   "outputs": [
    {
     "data": {
      "text/html": [
       "<div>\n",
       "<style scoped>\n",
       "    .dataframe tbody tr th:only-of-type {\n",
       "        vertical-align: middle;\n",
       "    }\n",
       "\n",
       "    .dataframe tbody tr th {\n",
       "        vertical-align: top;\n",
       "    }\n",
       "\n",
       "    .dataframe thead th {\n",
       "        text-align: right;\n",
       "    }\n",
       "</style>\n",
       "<table border=\"1\" class=\"dataframe\">\n",
       "  <thead>\n",
       "    <tr style=\"text-align: right;\">\n",
       "      <th></th>\n",
       "      <th>price</th>\n",
       "      <th>size</th>\n",
       "      <th>time</th>\n",
       "    </tr>\n",
       "    <tr>\n",
       "      <th>symbol</th>\n",
       "      <th></th>\n",
       "      <th></th>\n",
       "      <th></th>\n",
       "    </tr>\n",
       "  </thead>\n",
       "  <tbody>\n",
       "    <tr>\n",
       "      <th>GBF</th>\n",
       "      <td>107.715</td>\n",
       "      <td>41</td>\n",
       "      <td>1657813384080</td>\n",
       "    </tr>\n",
       "    <tr>\n",
       "      <th>WBK</th>\n",
       "      <td>14.220</td>\n",
       "      <td>200</td>\n",
       "      <td>1643403588574</td>\n",
       "    </tr>\n",
       "    <tr>\n",
       "      <th>GBGR</th>\n",
       "      <td>16.055</td>\n",
       "      <td>34</td>\n",
       "      <td>1657221475498</td>\n",
       "    </tr>\n",
       "    <tr>\n",
       "      <th>PBA</th>\n",
       "      <td>34.695</td>\n",
       "      <td>100</td>\n",
       "      <td>1657828793709</td>\n",
       "    </tr>\n",
       "    <tr>\n",
       "      <th>SPAK</th>\n",
       "      <td>13.320</td>\n",
       "      <td>20</td>\n",
       "      <td>1657632832725</td>\n",
       "    </tr>\n",
       "    <tr>\n",
       "      <th>...</th>\n",
       "      <td>...</td>\n",
       "      <td>...</td>\n",
       "      <td>...</td>\n",
       "    </tr>\n",
       "    <tr>\n",
       "      <th>TEQI</th>\n",
       "      <td>32.590</td>\n",
       "      <td>139</td>\n",
       "      <td>1657654773255</td>\n",
       "    </tr>\n",
       "    <tr>\n",
       "      <th>BAC-K</th>\n",
       "      <td>25.120</td>\n",
       "      <td>131</td>\n",
       "      <td>1657823720514</td>\n",
       "    </tr>\n",
       "    <tr>\n",
       "      <th>TUGC</th>\n",
       "      <td>9.860</td>\n",
       "      <td>85</td>\n",
       "      <td>1651262398313</td>\n",
       "    </tr>\n",
       "    <tr>\n",
       "      <th>VNO</th>\n",
       "      <td>28.685</td>\n",
       "      <td>114</td>\n",
       "      <td>1657828795182</td>\n",
       "    </tr>\n",
       "    <tr>\n",
       "      <th>LSLT</th>\n",
       "      <td>32.000</td>\n",
       "      <td>100</td>\n",
       "      <td>1645038245983</td>\n",
       "    </tr>\n",
       "  </tbody>\n",
       "</table>\n",
       "<p>15804 rows × 3 columns</p>\n",
       "</div>"
      ],
      "text/plain": [
       "          price  size           time\n",
       "symbol                              \n",
       "GBF     107.715    41  1657813384080\n",
       "WBK      14.220   200  1643403588574\n",
       "GBGR     16.055    34  1657221475498\n",
       "PBA      34.695   100  1657828793709\n",
       "SPAK     13.320    20  1657632832725\n",
       "...         ...   ...            ...\n",
       "TEQI     32.590   139  1657654773255\n",
       "BAC-K    25.120   131  1657823720514\n",
       "TUGC      9.860    85  1651262398313\n",
       "VNO      28.685   114  1657828795182\n",
       "LSLT     32.000   100  1645038245983\n",
       "\n",
       "[15804 rows x 3 columns]"
      ]
     },
     "execution_count": 27,
     "metadata": {},
     "output_type": "execute_result"
    }
   ],
   "source": [
    "data"
   ]
  },
  {
   "cell_type": "code",
   "execution_count": null,
   "id": "b4874623-6af6-4116-9a07-e4677a90bc17",
   "metadata": {},
   "outputs": [],
   "source": []
  }
 ],
 "metadata": {
  "kernelspec": {
   "display_name": "Python 3",
   "language": "python",
   "name": "python3"
  },
  "language_info": {
   "codemirror_mode": {
    "name": "ipython",
    "version": 3
   },
   "file_extension": ".py",
   "mimetype": "text/x-python",
   "name": "python",
   "nbconvert_exporter": "python",
   "pygments_lexer": "ipython3",
   "version": "3.6.9"
  }
 },
 "nbformat": 4,
 "nbformat_minor": 5
}
