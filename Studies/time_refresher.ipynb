{
 "cells": [
  {
   "cell_type": "markdown",
   "id": "0f1c53c6-361c-49c1-882f-d2ef1a2af08c",
   "metadata": {},
   "source": [
    "# Note on updating prices overnight\n",
    "\n",
    "The last price can be collected anytime after market close (4pm EST) and before market open (9:30am EST). Data updates during market hours per API docs."
   ]
  },
  {
   "cell_type": "code",
   "execution_count": 1,
   "id": "47ebcab3-7689-4e33-a9ef-b9d643637205",
   "metadata": {},
   "outputs": [],
   "source": [
    "import datetime"
   ]
  },
  {
   "cell_type": "code",
   "execution_count": 6,
   "id": "76a4be1e-d447-4694-ae6d-0cf2cd94b740",
   "metadata": {},
   "outputs": [
    {
     "data": {
      "text/plain": [
       "'2022-07-15'"
      ]
     },
     "execution_count": 6,
     "metadata": {},
     "output_type": "execute_result"
    }
   ],
   "source": [
    "(datetime.datetime.now() - datetime.timedelta(hours=4)).strftime('%Y-%m-%d') # current day with crude adjustment for timezone"
   ]
  },
  {
   "cell_type": "code",
   "execution_count": 10,
   "id": "716cd309-aa54-46df-aecc-83d8dc6e6401",
   "metadata": {},
   "outputs": [
    {
     "data": {
      "text/plain": [
       "'2022-07-15 12:45:49'"
      ]
     },
     "execution_count": 10,
     "metadata": {},
     "output_type": "execute_result"
    }
   ],
   "source": [
    "(datetime.datetime.now() - datetime.timedelta(hours=4)).strftime('%Y-%m-%d %H:%M:%S') # current second with crude adjustment for timezone"
   ]
  },
  {
   "cell_type": "markdown",
   "id": "5c671819-1fd4-4cf3-873d-1df42b93cf27",
   "metadata": {},
   "source": [
    "## Example cronjob to update every day at 11pm\n",
    "\n",
    "At 23:00 on every day-of-week from Monday through Friday. <br>\n",
    "0 23 * * 1-5"
   ]
  },
  {
   "cell_type": "code",
   "execution_count": null,
   "id": "34d47453-3d5f-4553-8209-c560b1e871c9",
   "metadata": {},
   "outputs": [],
   "source": []
  }
 ],
 "metadata": {
  "kernelspec": {
   "display_name": "Python 3",
   "language": "python",
   "name": "python3"
  },
  "language_info": {
   "codemirror_mode": {
    "name": "ipython",
    "version": 3
   },
   "file_extension": ".py",
   "mimetype": "text/x-python",
   "name": "python",
   "nbconvert_exporter": "python",
   "pygments_lexer": "ipython3",
   "version": "3.6.9"
  }
 },
 "nbformat": 4,
 "nbformat_minor": 5
}
